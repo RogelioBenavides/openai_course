{
 "cells": [
  {
   "cell_type": "code",
   "execution_count": 1,
   "id": "cab10aa1-49e3-4e27-82a5-21e3df229ecd",
   "metadata": {},
   "outputs": [],
   "source": [
    "import os\n",
    "from openai import OpenAI"
   ]
  },
  {
   "cell_type": "code",
   "execution_count": 2,
   "id": "87d9e601-c3db-45f9-915e-10f2837a3867",
   "metadata": {},
   "outputs": [],
   "source": [
    "client = OpenAI()"
   ]
  },
  {
   "cell_type": "code",
   "execution_count": 8,
   "id": "878216e3-e87f-4bec-af86-790549436b3d",
   "metadata": {},
   "outputs": [],
   "source": [
    "response = client.chat.completions.create(\n",
    "    messages=[\n",
    "        {\n",
    "            \"role\": \"user\",\n",
    "            \"content\": \"Generate me 3 trivia questions and answers\",\n",
    "        }\n",
    "    ],\n",
    "    model=\"gpt-3.5-turbo\",\n",
    ")  "
   ]
  },
  {
   "cell_type": "code",
   "execution_count": 9,
   "id": "ba3f2b2a",
   "metadata": {},
   "outputs": [
    {
     "data": {
      "text/plain": [
       "ChatCompletion(id='chatcmpl-8VO7tgFIFk9MDxrWzvxoRsSjTr7NT', choices=[Choice(finish_reason='stop', index=0, message=ChatCompletionMessage(content='1. Question: In what year did the United States declare its independence?\\n   Answer: The United States declared its independence in 1776.\\n\\n2. Question: What is the largest planet in our solar system?\\n   Answer: Jupiter is the largest planet in our solar system.\\n\\n3. Question: Who painted the famous mural, \"The Last Supper\"?\\n   Answer: Leonardo da Vinci painted \"The Last Supper\".', role='assistant', function_call=None, tool_calls=None))], created=1702491601, model='gpt-3.5-turbo-0613', object='chat.completion', system_fingerprint=None, usage=CompletionUsage(completion_tokens=86, prompt_tokens=15, total_tokens=101))"
      ]
     },
     "execution_count": 9,
     "metadata": {},
     "output_type": "execute_result"
    }
   ],
   "source": [
    "response"
   ]
  },
  {
   "cell_type": "code",
   "execution_count": 10,
   "id": "e985a099",
   "metadata": {},
   "outputs": [
    {
     "name": "stdout",
     "output_type": "stream",
     "text": [
      "1. Question: In what year did the United States declare its independence?\n",
      "   Answer: The United States declared its independence in 1776.\n",
      "\n",
      "2. Question: What is the largest planet in our solar system?\n",
      "   Answer: Jupiter is the largest planet in our solar system.\n",
      "\n",
      "3. Question: Who painted the famous mural, \"The Last Supper\"?\n",
      "   Answer: Leonardo da Vinci painted \"The Last Supper\".\n"
     ]
    }
   ],
   "source": [
    "print(response.choices[0].message.content)"
   ]
  },
  {
   "cell_type": "code",
   "execution_count": 11,
   "id": "6773c272",
   "metadata": {},
   "outputs": [],
   "source": [
    "response = client.chat.completions.create(\n",
    "    messages=[\n",
    "        {\n",
    "            \"role\": \"system\",\n",
    "            \"content\": \"You are a helpful assistant that translates English to French\",\n",
    "        },\n",
    "        {\n",
    "            \"role\": \"user\",\n",
    "            \"content\": \"Transale the following English to French: I want a pet frog\",\n",
    "        }\n",
    "    ],\n",
    "    model=\"gpt-3.5-turbo\",\n",
    ")  "
   ]
  },
  {
   "cell_type": "code",
   "execution_count": 12,
   "id": "7c86651a",
   "metadata": {},
   "outputs": [
    {
     "data": {
      "text/plain": [
       "ChatCompletion(id='chatcmpl-8VOH2GSv3fYyfeNZzLbWfxlgzRvqO', choices=[Choice(finish_reason='stop', index=0, message=ChatCompletionMessage(content='Je veux un serpent de compagnie', role='assistant', function_call=None, tool_calls=None))], created=1702492168, model='gpt-3.5-turbo-0613', object='chat.completion', system_fingerprint=None, usage=CompletionUsage(completion_tokens=8, prompt_tokens=34, total_tokens=42))"
      ]
     },
     "execution_count": 12,
     "metadata": {},
     "output_type": "execute_result"
    }
   ],
   "source": [
    "response"
   ]
  },
  {
   "cell_type": "code",
   "execution_count": 13,
   "id": "c2e5c688",
   "metadata": {},
   "outputs": [
    {
     "name": "stdout",
     "output_type": "stream",
     "text": [
      "Je veux un serpent de compagnie\n"
     ]
    }
   ],
   "source": [
    "print(response.choices[0].message.content)"
   ]
  },
  {
   "cell_type": "code",
   "execution_count": 14,
   "id": "23d9aaed",
   "metadata": {},
   "outputs": [],
   "source": [
    "response = client.chat.completions.create(\n",
    "    messages=[\n",
    "        {\n",
    "            \"role\": \"user\",\n",
    "            \"content\": \"You are a helpful assistant that translates English to French. Transale the following English to French: I want a pet frog\",\n",
    "        }\n",
    "    ],\n",
    "    model=\"gpt-3.5-turbo\",\n",
    ")  "
   ]
  },
  {
   "cell_type": "code",
   "execution_count": 15,
   "id": "832555d4",
   "metadata": {},
   "outputs": [
    {
     "data": {
      "text/plain": [
       "ChatCompletion(id='chatcmpl-8VOI8nbxNOOxvkrFQMbPGwlTYI8JZ', choices=[Choice(finish_reason='stop', index=0, message=ChatCompletionMessage(content='Je veux un animal de compagnie, une grenouille.', role='assistant', function_call=None, tool_calls=None))], created=1702492236, model='gpt-3.5-turbo-0613', object='chat.completion', system_fingerprint=None, usage=CompletionUsage(completion_tokens=14, prompt_tokens=31, total_tokens=45))"
      ]
     },
     "execution_count": 15,
     "metadata": {},
     "output_type": "execute_result"
    }
   ],
   "source": [
    "response"
   ]
  },
  {
   "cell_type": "code",
   "execution_count": 16,
   "id": "0431bdd2",
   "metadata": {},
   "outputs": [
    {
     "name": "stdout",
     "output_type": "stream",
     "text": [
      "Je veux un animal de compagnie, une grenouille.\n"
     ]
    }
   ],
   "source": [
    "print(response.choices[0].message.content)"
   ]
  },
  {
   "cell_type": "code",
   "execution_count": 17,
   "id": "83c257cb",
   "metadata": {},
   "outputs": [],
   "source": [
    "response = client.chat.completions.create(\n",
    "    messages=[\n",
    "        {\n",
    "            \"role\": \"system\",\n",
    "            \"content\": \"You are a helpful assistant that classifies the sentiment in text as either positive or negative\",\n",
    "        },\n",
    "        {\n",
    "            \"role\": \"user\",\n",
    "            \"content\": \"Classify the sentiment in the following text: 'I really hate chickens'\",\n",
    "        }\n",
    "    ],\n",
    "    model=\"gpt-3.5-turbo\",\n",
    ")  "
   ]
  },
  {
   "cell_type": "code",
   "execution_count": 18,
   "id": "43fe6001",
   "metadata": {},
   "outputs": [
    {
     "data": {
      "text/plain": [
       "ChatCompletion(id='chatcmpl-8VOLm27pshPVujmm2NAWjCwdQQWdl', choices=[Choice(finish_reason='stop', index=0, message=ChatCompletionMessage(content='The sentiment in the given text is negative.', role='assistant', function_call=None, tool_calls=None))], created=1702492462, model='gpt-3.5-turbo-0613', object='chat.completion', system_fingerprint=None, usage=CompletionUsage(completion_tokens=9, prompt_tokens=43, total_tokens=52))"
      ]
     },
     "execution_count": 18,
     "metadata": {},
     "output_type": "execute_result"
    }
   ],
   "source": [
    "response"
   ]
  },
  {
   "cell_type": "code",
   "execution_count": 19,
   "id": "2a8d97b4",
   "metadata": {},
   "outputs": [
    {
     "name": "stdout",
     "output_type": "stream",
     "text": [
      "The sentiment in the given text is negative.\n"
     ]
    }
   ],
   "source": [
    "print(response.choices[0].message.content)"
   ]
  },
  {
   "cell_type": "code",
   "execution_count": 20,
   "id": "fc7cf283",
   "metadata": {},
   "outputs": [],
   "source": [
    "response = client.chat.completions.create(\n",
    "    messages=[\n",
    "        {\n",
    "            \"role\": \"system\",\n",
    "            \"content\": \"You are a helpful assistant that classifies the sentiment in text as either positive or negative\",\n",
    "        },\n",
    "        {\n",
    "            \"role\": \"user\",\n",
    "            \"content\": \"Classify the sentiment in the following text: 'I really hate chickens'\",\n",
    "        },\n",
    "        {\n",
    "            \"role\": \"assistant\",\n",
    "            \"content\": \"Negative\",\n",
    "        },\n",
    "        {\n",
    "            \"role\": \"user\",\n",
    "            \"content\": \"Classify the sentiment in the following text: 'I love my dog'\",\n",
    "        }\n",
    "    ],\n",
    "    model=\"gpt-3.5-turbo\",\n",
    ")  "
   ]
  },
  {
   "cell_type": "code",
   "execution_count": 21,
   "id": "520bf849",
   "metadata": {},
   "outputs": [
    {
     "data": {
      "text/plain": [
       "ChatCompletion(id='chatcmpl-8VONQP0T1EwAGZLvuk5d6VlfkqpDV', choices=[Choice(finish_reason='stop', index=0, message=ChatCompletionMessage(content='Positive', role='assistant', function_call=None, tool_calls=None))], created=1702492564, model='gpt-3.5-turbo-0613', object='chat.completion', system_fingerprint=None, usage=CompletionUsage(completion_tokens=1, prompt_tokens=67, total_tokens=68))"
      ]
     },
     "execution_count": 21,
     "metadata": {},
     "output_type": "execute_result"
    }
   ],
   "source": [
    "response"
   ]
  },
  {
   "cell_type": "code",
   "execution_count": null,
   "id": "c2609f30",
   "metadata": {},
   "outputs": [],
   "source": [
    "print(response.choices[0].message.content)"
   ]
  }
 ],
 "metadata": {
  "kernelspec": {
   "display_name": "Python 3 (ipykernel)",
   "language": "python",
   "name": "python3"
  },
  "language_info": {
   "codemirror_mode": {
    "name": "ipython",
    "version": 3
   },
   "file_extension": ".py",
   "mimetype": "text/x-python",
   "name": "python",
   "nbconvert_exporter": "python",
   "pygments_lexer": "ipython3",
   "version": "3.11.5"
  }
 },
 "nbformat": 4,
 "nbformat_minor": 5
}
