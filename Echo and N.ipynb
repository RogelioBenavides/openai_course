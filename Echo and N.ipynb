{
 "cells": [
  {
   "cell_type": "code",
   "execution_count": 1,
   "id": "cab10aa1-49e3-4e27-82a5-21e3df229ecd",
   "metadata": {},
   "outputs": [],
   "source": [
    "import os\n",
    "from openai import OpenAI"
   ]
  },
  {
   "cell_type": "code",
   "execution_count": 2,
   "id": "87d9e601-c3db-45f9-915e-10f2837a3867",
   "metadata": {},
   "outputs": [],
   "source": [
    "client = OpenAI()"
   ]
  },
  {
   "cell_type": "code",
   "execution_count": 9,
   "id": "878216e3-e87f-4bec-af86-790549436b3d",
   "metadata": {},
   "outputs": [],
   "source": [
    "response = client.chat.completions.create(\n",
    "    messages=[\n",
    "        {\n",
    "            \"role\": \"user\",\n",
    "            \"content\": \"Tell me a joke about death\",\n",
    "        }\n",
    "    ],\n",
    "    model=\"gpt-3.5-turbo\",\n",
    "    max_tokens=100,\n",
    "    n=3,\n",
    ")  "
   ]
  },
  {
   "cell_type": "code",
   "execution_count": 12,
   "id": "7986687b-192c-46e6-a3a3-7d7a0f0473d2",
   "metadata": {},
   "outputs": [
    {
     "data": {
      "text/plain": [
       "ChatCompletion(id='chatcmpl-8V94tdrD1o7I1s8vvIKL7ROD5PLX8', choices=[Choice(finish_reason='stop', index=0, message=ChatCompletionMessage(content='Why did the skeleton go to the party alone?\\n\\nBecause he had no body to go with him!', role='assistant', function_call=None, tool_calls=None)), Choice(finish_reason='stop', index=1, message=ChatCompletionMessage(content=\"Why don't skeletons fight each other?\\nBecause they don't have the guts!\", role='assistant', function_call=None, tool_calls=None)), Choice(finish_reason='stop', index=2, message=ChatCompletionMessage(content='Why did the ghost go to the party?\\n\\nBecause he wanted to have a \"boo\"tiful time before he had to \"ghost\"!', role='assistant', function_call=None, tool_calls=None))], created=1702433755, model='gpt-3.5-turbo-0613', object='chat.completion', system_fingerprint=None, usage=CompletionUsage(completion_tokens=65, prompt_tokens=13, total_tokens=78))"
      ]
     },
     "execution_count": 12,
     "metadata": {},
     "output_type": "execute_result"
    }
   ],
   "source": [
    "response"
   ]
  },
  {
   "cell_type": "code",
   "execution_count": 15,
   "id": "f63575ea",
   "metadata": {},
   "outputs": [
    {
     "name": "stdout",
     "output_type": "stream",
     "text": [
      "1\n",
      "Why did the skeleton go to the party alone?\n",
      "\n",
      "Because he had no body to go with him!\n",
      "2\n",
      "Why don't skeletons fight each other?\n",
      "Because they don't have the guts!\n",
      "3\n",
      "Why did the ghost go to the party?\n",
      "\n",
      "Because he wanted to have a \"boo\"tiful time before he had to \"ghost\"!\n"
     ]
    }
   ],
   "source": [
    "print(1)\n",
    "print(response.choices[0].message.content)\n",
    "print(2)\n",
    "print(response.choices[1].message.content)\n",
    "print(3)\n",
    "print(response.choices[2].message.content)"
   ]
  }
 ],
 "metadata": {
  "kernelspec": {
   "display_name": "Python 3 (ipykernel)",
   "language": "python",
   "name": "python3"
  },
  "language_info": {
   "codemirror_mode": {
    "name": "ipython",
    "version": 3
   },
   "file_extension": ".py",
   "mimetype": "text/x-python",
   "name": "python",
   "nbconvert_exporter": "python",
   "pygments_lexer": "ipython3",
   "version": "3.11.5"
  }
 },
 "nbformat": 4,
 "nbformat_minor": 5
}
