{
 "cells": [
  {
   "cell_type": "code",
   "execution_count": 12,
   "id": "cab10aa1-49e3-4e27-82a5-21e3df229ecd",
   "metadata": {},
   "outputs": [],
   "source": [
    "import os\n",
    "from openai import OpenAI"
   ]
  },
  {
   "cell_type": "code",
   "execution_count": 13,
   "id": "87d9e601-c3db-45f9-915e-10f2837a3867",
   "metadata": {},
   "outputs": [],
   "source": [
    "client = OpenAI()"
   ]
  },
  {
   "cell_type": "code",
   "execution_count": 16,
   "id": "878216e3-e87f-4bec-af86-790549436b3d",
   "metadata": {},
   "outputs": [],
   "source": [
    "chat_completion = client.chat.completions.create(\n",
    "    messages=[\n",
    "        {\n",
    "            \"role\": \"user\",\n",
    "            \"content\": \"The 10 most populated cities are: \",\n",
    "        }\n",
    "    ],\n",
    "    model=\"gpt-3.5-turbo\",\n",
    "    max_tokens=50,\n",
    ")  "
   ]
  },
  {
   "cell_type": "code",
   "execution_count": 11,
   "id": "7986687b-192c-46e6-a3a3-7d7a0f0473d2",
   "metadata": {},
   "outputs": [
    {
     "name": "stdout",
     "output_type": "stream",
     "text": [
      "ChatCompletion(id='chatcmpl-8V8UXntrB8GKHuQtNbihVVuI6xSql', choices=[Choice(finish_reason='stop', index=0, message=ChatCompletionMessage(content='1. Tokyo, Japan - 37.4 million\\n2. Delhi, India - 31.4 million\\n3. Shanghai, China - 27.1 million\\n4. São Paulo, Brazil - 22.2 million\\n5. Mumbai, India - 20.7 million\\n6. Beijing, China - 20.4 million\\n7. Cairo, Egypt - 19.1 million\\n8. Dhaka, Bangladesh - 18.9 million\\n9. Mexico City, Mexico - 18.7 million\\n10. Osaka, Japan - 19.3 million', role='assistant', function_call=None, tool_calls=None))], created=1702431501, model='gpt-3.5-turbo-0613', object='chat.completion', system_fingerprint=None, usage=CompletionUsage(completion_tokens=122, prompt_tokens=16, total_tokens=138))\n",
      "1. Tokyo, Japan - 37.4 million\n",
      "2. Delhi, India - 31.4 million\n",
      "3. Shanghai, China - 27.1 million\n",
      "4. São Paulo, Brazil - 22.2 million\n",
      "5. Mumbai, India - 20.7 million\n",
      "6. Beijing, China - 20.4 million\n",
      "7. Cairo, Egypt - 19.1 million\n",
      "8. Dhaka, Bangladesh - 18.9 million\n",
      "9. Mexico City, Mexico - 18.7 million\n",
      "10. Osaka, Japan - 19.3 million\n"
     ]
    }
   ],
   "source": [
    "print(chat_completion)\n",
    "print(chat_completion.choices[0].message.content)"
   ]
  }
 ],
 "metadata": {
  "kernelspec": {
   "display_name": "Python 3 (ipykernel)",
   "language": "python",
   "name": "python3"
  },
  "language_info": {
   "codemirror_mode": {
    "name": "ipython",
    "version": 3
   },
   "file_extension": ".py",
   "mimetype": "text/x-python",
   "name": "python",
   "nbconvert_exporter": "python",
   "pygments_lexer": "ipython3",
   "version": "3.11.5"
  }
 },
 "nbformat": 4,
 "nbformat_minor": 5
}
