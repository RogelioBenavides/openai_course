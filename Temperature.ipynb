{
 "cells": [
  {
   "cell_type": "code",
   "execution_count": 27,
   "id": "cab10aa1-49e3-4e27-82a5-21e3df229ecd",
   "metadata": {},
   "outputs": [],
   "source": [
    "import os\n",
    "from openai import OpenAI"
   ]
  },
  {
   "cell_type": "code",
   "execution_count": 28,
   "id": "87d9e601-c3db-45f9-915e-10f2837a3867",
   "metadata": {},
   "outputs": [],
   "source": [
    "client = OpenAI()"
   ]
  },
  {
   "cell_type": "code",
   "execution_count": 30,
   "id": "878216e3-e87f-4bec-af86-790549436b3d",
   "metadata": {},
   "outputs": [],
   "source": [
    "response = client.chat.completions.create(\n",
    "    messages=[\n",
    "        {\n",
    "            \"role\": \"user\",\n",
    "            \"content\": \"Tell me a story\",\n",
    "        }\n",
    "    ],\n",
    "    model=\"gpt-3.5-turbo\",\n",
    "    max_tokens=200,\n",
    "    temperature=0\n",
    ")  "
   ]
  },
  {
   "cell_type": "code",
   "execution_count": 10,
   "id": "ba3f2b2a",
   "metadata": {},
   "outputs": [
    {
     "data": {
      "text/plain": [
       "ChatCompletion(id='chatcmpl-8VNRlXqouOCwLH42n7pzTTCGrrXrZ', choices=[Choice(finish_reason='length', index=0, message=ChatCompletionMessage(content='Once upon a time, in a small village nestled at the foot of a majestic mountain range, there lived a young girl named Lily. She was known for her kind heart, adventurous spirit, and love for nature. Lily spent most of her days exploring the lush forests surrounding her village, always eager to discover new wonders.\\n\\nOne sunny morning, as Lily set out on her usual adventure, she stumbled upon a hidden path she had never noticed before. Curiosity sparked within her, and she decided to follow it. The path led her deeper into the forest, where the trees grew taller and the air became crisper.\\n\\nAfter walking for what felt like hours, Lily stumbled upon a clearing. In the center stood a magnificent, ancient oak tree. Its branches reached towards the sky, and its leaves shimmered in shades of gold and emerald. Lily felt an inexplicable connection to the tree, as if it held a secret waiting to be unveiled.\\n\\nAs she approached the oak tree, a soft whisper filled', role='assistant', function_call=None, tool_calls=None))], created=1702488989, model='gpt-3.5-turbo-0613', object='chat.completion', system_fingerprint=None, usage=CompletionUsage(completion_tokens=200, prompt_tokens=11, total_tokens=211))"
      ]
     },
     "execution_count": 10,
     "metadata": {},
     "output_type": "execute_result"
    }
   ],
   "source": [
    "response"
   ]
  },
  {
   "cell_type": "code",
   "execution_count": 11,
   "id": "e985a099",
   "metadata": {},
   "outputs": [
    {
     "name": "stdout",
     "output_type": "stream",
     "text": [
      "Once upon a time, in a small village nestled at the foot of a majestic mountain range, there lived a young girl named Lily. She was known for her kind heart, adventurous spirit, and love for nature. Lily spent most of her days exploring the lush forests surrounding her village, always eager to discover new wonders.\n",
      "\n",
      "One sunny morning, as Lily set out on her usual adventure, she stumbled upon a hidden path she had never noticed before. Curiosity sparked within her, and she decided to follow it. The path led her deeper into the forest, where the trees grew taller and the air became crisper.\n",
      "\n",
      "After walking for what felt like hours, Lily stumbled upon a clearing. In the center stood a magnificent, ancient oak tree. Its branches reached towards the sky, and its leaves shimmered in shades of gold and emerald. Lily felt an inexplicable connection to the tree, as if it held a secret waiting to be unveiled.\n",
      "\n",
      "As she approached the oak tree, a soft whisper filled\n"
     ]
    }
   ],
   "source": [
    "print(response.choices[0].message.content)"
   ]
  }
 ],
 "metadata": {
  "kernelspec": {
   "display_name": "Python 3 (ipykernel)",
   "language": "python",
   "name": "python3"
  },
  "language_info": {
   "codemirror_mode": {
    "name": "ipython",
    "version": 3
   },
   "file_extension": ".py",
   "mimetype": "text/x-python",
   "name": "python",
   "nbconvert_exporter": "python",
   "pygments_lexer": "ipython3",
   "version": "3.11.5"
  }
 },
 "nbformat": 4,
 "nbformat_minor": 5
}
