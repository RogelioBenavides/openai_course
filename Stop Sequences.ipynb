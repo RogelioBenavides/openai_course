{
 "cells": [
  {
   "cell_type": "code",
   "execution_count": 2,
   "id": "cab10aa1-49e3-4e27-82a5-21e3df229ecd",
   "metadata": {},
   "outputs": [],
   "source": [
    "import os\n",
    "from openai import OpenAI"
   ]
  },
  {
   "cell_type": "code",
   "execution_count": 3,
   "id": "87d9e601-c3db-45f9-915e-10f2837a3867",
   "metadata": {},
   "outputs": [],
   "source": [
    "client = OpenAI()"
   ]
  },
  {
   "cell_type": "code",
   "execution_count": 13,
   "id": "878216e3-e87f-4bec-af86-790549436b3d",
   "metadata": {},
   "outputs": [],
   "source": [
    "response = client.chat.completions.create(\n",
    "    messages=[\n",
    "        {\n",
    "            \"role\": \"user\",\n",
    "            \"content\": \"Generate a list of the best movies of all time\",\n",
    "        }\n",
    "    ],\n",
    "    model=\"gpt-3.5-turbo\",\n",
    "    max_tokens=200,\n",
    "    stop=\"11.\"\n",
    ")  "
   ]
  },
  {
   "cell_type": "code",
   "execution_count": 14,
   "id": "7986687b-192c-46e6-a3a3-7d7a0f0473d2",
   "metadata": {},
   "outputs": [
    {
     "data": {
      "text/plain": [
       "ChatCompletion(id='chatcmpl-8V8w0fl9k6IH9a22Z54hkN160ZQQ0', choices=[Choice(finish_reason='stop', index=0, message=ChatCompletionMessage(content='I like to play with my toys and draw pictures and sing songs! What do you like to do for fun?', role='assistant', function_call=None, tool_calls=None))], created=1702433204, model='gpt-3.5-turbo-0613', object='chat.completion', system_fingerprint=None, usage=CompletionUsage(completion_tokens=23, prompt_tokens=74, total_tokens=97))"
      ]
     },
     "execution_count": 14,
     "metadata": {},
     "output_type": "execute_result"
    }
   ],
   "source": [
    "response"
   ]
  },
  {
   "cell_type": "code",
   "execution_count": 16,
   "id": "c8e53c2d",
   "metadata": {},
   "outputs": [
    {
     "name": "stdout",
     "output_type": "stream",
     "text": [
      "I like to play with my toys and draw pictures and sing songs! What do you like to do for fun?\n"
     ]
    }
   ],
   "source": [
    "print(response.choices[0].message.content)"
   ]
  }
 ],
 "metadata": {
  "kernelspec": {
   "display_name": "Python 3 (ipykernel)",
   "language": "python",
   "name": "python3"
  },
  "language_info": {
   "codemirror_mode": {
    "name": "ipython",
    "version": 3
   },
   "file_extension": ".py",
   "mimetype": "text/x-python",
   "name": "python",
   "nbconvert_exporter": "python",
   "pygments_lexer": "ipython3",
   "version": "3.11.5"
  }
 },
 "nbformat": 4,
 "nbformat_minor": 5
}
